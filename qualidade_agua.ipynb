{
 "cells": [
  {
   "cell_type": "markdown",
   "metadata": {},
   "source": [
    "# Projeto Final"
   ]
  },
  {
   "attachments": {},
   "cell_type": "markdown",
   "metadata": {},
   "source": [
    "Este projeto busca analisar a qualidade da água das praias de Mongaguá, litoral sul de São Paulo com base na densidade de Enterococcus presente em cada amostra. Altos valores dessa densidade indicam riscos á saúde dos banhistas e podem definir se a praia é \"Própria\" ou \"Imprópria\" para banho.\n",
    "\n",
    "A tabela utilizada contém mais de 74 mil medições feitas semanalmente de 2012 a 2021, em 16 cidades e 168 praias. Neste projeto iremos apenas analisar as medições das praias da cidade de Mongaguá, buscando saber qual a situação das águas de Mongaguá e se houve melhora ou piora do sistema de saneamento básico ao longo dos anos. "
   ]
  },
  {
   "attachments": {},
   "cell_type": "markdown",
   "metadata": {},
   "source": [
    "imagem enterococis"
   ]
  },
  {
   "attachments": {},
   "cell_type": "markdown",
   "metadata": {},
   "source": [
    "Enterococcus são bactérias gram-positivas, normalmente encontradas no intestino e no trato genital feminino. Existem 14 espécies descritas de Enterococcus spp., sendo o E. faecalis e o E. faecium as duas que normalmente promovem colonização e infecções em humanos, como endocardite, infecção do trato urinário, prostatite, infecção intra-abdominal, celulite e infecção em feridas, além de bacteremia concomitante.\n",
    "\n",
    "De acordo com a CETESB, \"densidades superiores a 100 UFC/100 mL , em duas ou mais amostras de um conjunto de cinco semanas, ou valores superiores a  400 UFC/100 mL na última amostragem, caracterizam a impropriedade da praia para recreação de contato primário.\""
   ]
  },
  {
   "cell_type": "code",
   "execution_count": 1,
   "metadata": {},
   "outputs": [],
   "source": [
    "import pandas as pd"
   ]
  },
  {
   "cell_type": "code",
   "execution_count": 9,
   "metadata": {},
   "outputs": [
    {
     "data": {
      "text/html": [
       "<div>\n",
       "<style scoped>\n",
       "    .dataframe tbody tr th:only-of-type {\n",
       "        vertical-align: middle;\n",
       "    }\n",
       "\n",
       "    .dataframe tbody tr th {\n",
       "        vertical-align: top;\n",
       "    }\n",
       "\n",
       "    .dataframe thead th {\n",
       "        text-align: right;\n",
       "    }\n",
       "</style>\n",
       "<table border=\"1\" class=\"dataframe\">\n",
       "  <thead>\n",
       "    <tr style=\"text-align: right;\">\n",
       "      <th></th>\n",
       "      <th>City</th>\n",
       "      <th>Beach</th>\n",
       "      <th>Date</th>\n",
       "      <th>Enterococcus</th>\n",
       "    </tr>\n",
       "  </thead>\n",
       "  <tbody>\n",
       "    <tr>\n",
       "      <th>0</th>\n",
       "      <td>BERTIOGA</td>\n",
       "      <td>BORACÉIA - COL. MARISTA</td>\n",
       "      <td>2012-01-03</td>\n",
       "      <td>8.0</td>\n",
       "    </tr>\n",
       "    <tr>\n",
       "      <th>1</th>\n",
       "      <td>BERTIOGA</td>\n",
       "      <td>BORACÉIA - COL. MARISTA</td>\n",
       "      <td>2012-01-08</td>\n",
       "      <td>22.0</td>\n",
       "    </tr>\n",
       "    <tr>\n",
       "      <th>2</th>\n",
       "      <td>BERTIOGA</td>\n",
       "      <td>BORACÉIA - COL. MARISTA</td>\n",
       "      <td>2012-01-15</td>\n",
       "      <td>17.0</td>\n",
       "    </tr>\n",
       "    <tr>\n",
       "      <th>3</th>\n",
       "      <td>BERTIOGA</td>\n",
       "      <td>BORACÉIA - COL. MARISTA</td>\n",
       "      <td>2012-01-22</td>\n",
       "      <td>8.0</td>\n",
       "    </tr>\n",
       "    <tr>\n",
       "      <th>4</th>\n",
       "      <td>BERTIOGA</td>\n",
       "      <td>BORACÉIA - COL. MARISTA</td>\n",
       "      <td>2012-01-29</td>\n",
       "      <td>2.0</td>\n",
       "    </tr>\n",
       "    <tr>\n",
       "      <th>...</th>\n",
       "      <td>...</td>\n",
       "      <td>...</td>\n",
       "      <td>...</td>\n",
       "      <td>...</td>\n",
       "    </tr>\n",
       "    <tr>\n",
       "      <th>74051</th>\n",
       "      <td>UBATUBA</td>\n",
       "      <td>PULSO</td>\n",
       "      <td>2021-02-01</td>\n",
       "      <td>1.0</td>\n",
       "    </tr>\n",
       "    <tr>\n",
       "      <th>74052</th>\n",
       "      <td>UBATUBA</td>\n",
       "      <td>PULSO</td>\n",
       "      <td>2021-03-01</td>\n",
       "      <td>1.0</td>\n",
       "    </tr>\n",
       "    <tr>\n",
       "      <th>74053</th>\n",
       "      <td>UBATUBA</td>\n",
       "      <td>PULSO</td>\n",
       "      <td>2021-05-03</td>\n",
       "      <td>1.0</td>\n",
       "    </tr>\n",
       "    <tr>\n",
       "      <th>74054</th>\n",
       "      <td>UBATUBA</td>\n",
       "      <td>PULSO</td>\n",
       "      <td>2021-06-07</td>\n",
       "      <td>4.0</td>\n",
       "    </tr>\n",
       "    <tr>\n",
       "      <th>74055</th>\n",
       "      <td>UBATUBA</td>\n",
       "      <td>PULSO</td>\n",
       "      <td>2021-07-05</td>\n",
       "      <td>53.0</td>\n",
       "    </tr>\n",
       "  </tbody>\n",
       "</table>\n",
       "<p>74056 rows × 4 columns</p>\n",
       "</div>"
      ],
      "text/plain": [
       "           City                    Beach        Date  Enterococcus\n",
       "0      BERTIOGA  BORACÉIA - COL. MARISTA  2012-01-03           8.0\n",
       "1      BERTIOGA  BORACÉIA - COL. MARISTA  2012-01-08          22.0\n",
       "2      BERTIOGA  BORACÉIA - COL. MARISTA  2012-01-15          17.0\n",
       "3      BERTIOGA  BORACÉIA - COL. MARISTA  2012-01-22           8.0\n",
       "4      BERTIOGA  BORACÉIA - COL. MARISTA  2012-01-29           2.0\n",
       "...         ...                      ...         ...           ...\n",
       "74051   UBATUBA                    PULSO  2021-02-01           1.0\n",
       "74052   UBATUBA                    PULSO  2021-03-01           1.0\n",
       "74053   UBATUBA                    PULSO  2021-05-03           1.0\n",
       "74054   UBATUBA                    PULSO  2021-06-07           4.0\n",
       "74055   UBATUBA                    PULSO  2021-07-05          53.0\n",
       "\n",
       "[74056 rows x 4 columns]"
      ]
     },
     "execution_count": 9,
     "metadata": {},
     "output_type": "execute_result"
    },
    {
     "name": "stderr",
     "output_type": "stream",
     "text": [
      "Bad pipe message: %s [b'\\x9a\\x94\\x07\\x9a\\xa7\\x12\\x16\\x94\\x0bG\\x8e/H\\xef\\xe9o\\xdb% \\xbd\\x19\\x95\\x05F\\x05\\xb1:\\x1d\\xb2\\x91\\xa4Zl\\xc5\\xf9o\\xa4\\x04\\xf9p|\\xd1\\xbdo\\x11Vt\\x1f\\xf7\\x9b\\x13\\x00\\x08\\x13\\x02\\x13\\x03\\x13\\x01\\x00\\xff\\x01\\x00\\x00', b'\\x00\\x00\\x0e\\x00\\x0c\\x00\\x00\\t127.0.0.1\\x00\\x0b\\x00\\x04\\x03\\x00\\x01\\x02\\x00\\n\\x00\\x0c\\x00\\n\\x00\\x1d\\x00\\x17\\x00\\x1e\\x00\\x19\\x00\\x18\\x00#\\x00\\x00\\x00\\x16\\x00\\x00\\x00\\x17\\x00\\x00\\x00\\r\\x00\\x1e\\x00\\x1c\\x04\\x03\\x05\\x03\\x06\\x03\\x08\\x07\\x08\\x08\\x08\\t\\x08\\n\\x08\\x0b\\x08\\x04\\x08\\x05\\x08\\x06\\x04\\x01\\x05\\x01\\x06\\x01\\x00+\\x00\\x03\\x02\\x03\\x04\\x00-\\x00\\x02\\x01\\x01\\x003\\x00&\\x00$\\x00\\x1d\\x00 \\xf3_f\\x7f\\x90WC\\x9c\\xdfn\\x8d\\x8b:\\xd3:\\x0c\\xd6p\\xf4\\x7f\\x9c\\xc5\\xf3\\x04\\xe0\\xdd\\x1c\\xd5\\xa7l\\xe5|']\n",
      "Bad pipe message: %s [b'TJ\\xf28\\xa9\\xba\\xf7\\x9d\\xfe$(\\x96\\xff\\x85\\xe3\\xb9\\x85h }\\xc6%\\x9d\\x1dkT3\\xe1>\\xb4Q\\xf3\\x1f\\x8a\\x92\\x8a\\xef\\xfc{\\xa9_\\xb1\\xad{W\\xa2c_\\xbc\\xae\\xd1\\x00\\x08\\x13\\x02\\x13\\x03\\x13\\x01\\x00\\xff\\x01\\x00\\x00\\x8f\\x00\\x00\\x00\\x0e\\x00\\x0c\\x00\\x00\\t127.0.0.1\\x00\\x0b\\x00\\x04\\x03\\x00\\x01\\x02\\x00\\n\\x00\\x0c\\x00\\n\\x00\\x1d\\x00\\x17\\x00\\x1e\\x00\\x19\\x00\\x18\\x00#\\x00\\x00\\x00\\x16\\x00\\x00\\x00\\x17\\x00\\x00\\x00\\r\\x00\\x1e\\x00\\x1c\\x04\\x03\\x05\\x03\\x06\\x03\\x08\\x07\\x08\\x08\\x08\\t\\x08\\n\\x08\\x0b\\x08\\x04\\x08\\x05', b'\\x04\\x01\\x05\\x01\\x06\\x01\\x00']\n",
      "Bad pipe message: %s [b'\\x03\\x02\\x03\\x04\\x00-\\x00\\x02\\x01\\x01\\x003\\x00&\\x00$\\x00\\x1d\\x00 \\xdf\\xdfF1\\xec\\xc4\\xf11\\xe1\\xc2\\xab\\xd7\\xf2R\\x1ba7#\\x88\\xb6,h']\n",
      "Bad pipe message: %s [b\"\\xb2\\x84H)\\xfd\\x0f*\\xf0\\xb1~\\xf2\\xe1\\x04\\x03s\\x01N\\xad\\x00\\x00|\\xc0,\\xc00\\x00\\xa3\\x00\\x9f\\xcc\\xa9\\xcc\\xa8\\xcc\\xaa\\xc0\\xaf\\xc0\\xad\\xc0\\xa3\\xc0\\x9f\\xc0]\\xc0a\\xc0W\\xc0S\\xc0+\\xc0/\\x00\\xa2\\x00\\x9e\\xc0\\xae\\xc0\\xac\\xc0\\xa2\\xc0\\x9e\\xc0\\\\\\xc0`\\xc0V\\xc0R\\xc0$\\xc0(\\x00k\\x00j\\xc0#\\xc0'\\x00g\\x00@\\xc0\\n\\xc0\", b'9\\x008\\xc0\\t\\xc0\\x13\\x003\\x002\\x00\\x9d\\xc0\\xa1\\xc0\\x9d\\xc0Q']\n",
      "Bad pipe message: %s [b\"\\x9e\\x9b\\xc2[M\\x16\\x06oi\\xb3)^\\x8b/<\\xc7\\xf19\\x00\\x00\\xa6\\xc0,\\xc00\\x00\\xa3\\x00\\x9f\\xcc\\xa9\\xcc\\xa8\\xcc\\xaa\\xc0\\xaf\\xc0\\xad\\xc0\\xa3\\xc0\\x9f\\xc0]\\xc0a\\xc0W\\xc0S\\xc0+\\xc0/\\x00\\xa2\\x00\\x9e\\xc0\\xae\\xc0\\xac\\xc0\\xa2\\xc0\\x9e\\xc0\\\\\\xc0`\\xc0V\\xc0R\\xc0$\\xc0(\\x00k\\x00j\\xc0s\\xc0w\\x00\\xc4\\x00\\xc3\\xc0#\\xc0'\\x00g\\x00@\\xc0r\\xc0v\\x00\\xbe\\x00\\xbd\\xc0\"]\n",
      "Bad pipe message: %s [b'\\x14\\x009\\x008\\x00\\x88\\x00\\x87']\n",
      "Bad pipe message: %s [b'\\x90cs\\x1e\\x7f}[\\x9d\\x85\\xa2', b'\\x1f\\x9d\\xd1,\\x80\\n\\x00\\x00>\\xc0\\x14\\xc0\\n\\x009\\x008\\x007\\x006\\xc0\\x0f\\xc0\\x05\\x005\\xc0\\x13\\xc0\\t\\x003\\x002\\x001\\x000\\xc0\\x0e\\xc0\\x04\\x00/\\x00\\x9a\\x00\\x99\\x00\\x98\\x00\\x97\\x00\\x96\\x00\\x07\\xc0\\x11\\xc0\\x07\\xc0\\x0c\\xc0\\x02\\x00\\x05\\x00\\x04\\x00\\xff\\x02\\x01\\x00\\x00C\\x00\\x00\\x00\\x0e\\x00\\x0c\\x00\\x00\\t127.0.0.1\\x00\\x0b\\x00\\x04\\x03\\x00\\x01\\x02\\x00\\n\\x00\\x1c\\x00\\x1a\\x00\\x17\\x00\\x19\\x00\\x1c\\x00\\x1b\\x00\\x18\\x00\\x1a\\x00\\x16\\x00\\x0e\\x00\\r\\x00\\x0b\\x00', b'\\t\\x00\\n\\x00#\\x00\\x00\\x00\\x0f\\x00\\x01']\n",
      "Bad pipe message: %s [b'', b'\\x00\\x02']\n",
      "Bad pipe message: %s [b'\\x82\\x1fw\\xb2\\x02\\xc6/M\\xf2\\x85\\xd4?\\xe4\\xa1\\xed6\\xb3\\xa6\\x00\\x00\\xa2\\xc0\\x14\\xc0\\n\\x009\\x008\\x007\\x006\\x00\\x88\\x00\\x87\\x00\\x86\\x00\\x85\\xc0\\x19\\x00:\\x00\\x89\\xc0\\x0f\\xc0\\x05\\x005\\x00\\x84\\xc0\\x13\\xc0\\t\\x003\\x002\\x001\\x000\\x00\\x9a\\x00\\x99\\x00\\x98\\x00\\x97\\x00E']\n",
      "Bad pipe message: %s [b'\\xbe\\xbb\\xb2\\xc8E\\xf6\\xe9?8\\x89\\x8e\\x7f\\xe2']\n",
      "Bad pipe message: %s [b\"F\\xec\\xef9\\x00\\xda5=\\xf0\\x84\\xa1\\x15jX\\x82\\xc0\\xdc7\\x00\\x00\\x86\\xc00\\xc0,\\xc0(\\xc0$\\xc0\\x14\\xc0\\n\\x00\\xa5\\x00\\xa3\\x00\\xa1\\x00\\x9f\\x00k\\x00j\\x00i\\x00h\\x009\\x008\\x007\\x006\\xc02\\xc0.\\xc0*\\xc0&\\xc0\\x0f\\xc0\\x05\\x00\\x9d\\x00=\\x005\\xc0/\\xc0+\\xc0'\\xc0#\\xc0\\x13\\xc0\\t\\x00\\xa4\\x00\\xa2\\x00\\xa0\\x00\\x9e\\x00g\\x00@\\x00?\\x00>\\x003\\x002\\x001\\x000\\xc01\\xc0-\\xc0)\\xc0%\\xc0\\x0e\\xc0\\x04\\x00\\x9c\"]\n",
      "Bad pipe message: %s [b'\\x85\\xc9\\x94\\xb2\\x0c\\xa9\\xd5k\\xcb~N\\x07\\x11\\xbc\\xc93E\\xde\\x00\\x00\\xf4\\xc00\\xc0,\\xc0(\\xc0$\\xc0\\x14\\xc0\\n\\x00\\xa5\\x00\\xa3\\x00\\xa1\\x00\\x9f\\x00k\\x00j\\x00i\\x00h\\x009\\x008\\x007\\x006\\x00\\x88\\x00\\x87\\x00\\x86\\x00\\x85\\xc0\\x19\\x00\\xa7\\x00m\\x00:\\x00\\x89\\xc02\\xc0.\\xc0*\\xc0&\\xc0\\x0f\\xc0\\x05']\n"
     ]
    }
   ],
   "source": [
    "df = pd.read_csv('../projeto-final/files/sp_beaches.csv')\n",
    "df"
   ]
  },
  {
   "cell_type": "code",
   "execution_count": null,
   "metadata": {},
   "outputs": [],
   "source": [
    "df2 = df.loc[df['City'] ]"
   ]
  }
 ],
 "metadata": {
  "kernelspec": {
   "display_name": "Python 3",
   "language": "python",
   "name": "python3"
  },
  "language_info": {
   "codemirror_mode": {
    "name": "ipython",
    "version": 3
   },
   "file_extension": ".py",
   "mimetype": "text/x-python",
   "name": "python",
   "nbconvert_exporter": "python",
   "pygments_lexer": "ipython3",
   "version": "3.10.4"
  },
  "orig_nbformat": 4,
  "vscode": {
   "interpreter": {
    "hash": "3ad933181bd8a04b432d3370b9dc3b0662ad032c4dfaa4e4f1596c548f763858"
   }
  }
 },
 "nbformat": 4,
 "nbformat_minor": 2
}
